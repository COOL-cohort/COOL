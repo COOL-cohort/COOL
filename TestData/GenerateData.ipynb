{
 "cells": [
  {
   "cell_type": "code",
   "execution_count": 1,
   "metadata": {},
   "outputs": [],
   "source": [
    "import os\n",
    "import pandas as pd\n",
    "import numpy as np"
   ]
  },
  {
   "cell_type": "code",
   "execution_count": 2,
   "metadata": {},
   "outputs": [],
   "source": [
    "pwd = os.getcwd()\n",
    "workSpacePath = os.path.abspath(os.path.join(pwd,'..',))"
   ]
  },
  {
   "cell_type": "code",
   "execution_count": 3,
   "metadata": {},
   "outputs": [],
   "source": [
    "dataPath = os.path.join(workSpacePath,'health','raw2.csv')"
   ]
  },
  {
   "cell_type": "code",
   "execution_count": 19,
   "metadata": {},
   "outputs": [],
   "source": [
    "data = pd.read_csv(dataPath,\\\n",
    "    index_col = None,\\\n",
    "    header = None,\\\n",
    "    names = ['id','birthYear','event','attr1','attr2','attr3','attr4','time'],\\\n",
    "    encoding = 'utf-8',)"
   ]
  },
  {
   "cell_type": "code",
   "execution_count": 20,
   "metadata": {},
   "outputs": [],
   "source": [
    "sample_data = data.sample(n=100)"
   ]
  },
  {
   "cell_type": "code",
   "execution_count": 21,
   "metadata": {},
   "outputs": [
    {
     "data": {
      "text/html": [
       "<div>\n",
       "<style>\n",
       "    .dataframe thead tr:only-child th {\n",
       "        text-align: right;\n",
       "    }\n",
       "\n",
       "    .dataframe thead th {\n",
       "        text-align: left;\n",
       "    }\n",
       "\n",
       "    .dataframe tbody tr th {\n",
       "        vertical-align: top;\n",
       "    }\n",
       "</style>\n",
       "<table border=\"1\" class=\"dataframe\">\n",
       "  <thead>\n",
       "    <tr style=\"text-align: right;\">\n",
       "      <th></th>\n",
       "      <th>id</th>\n",
       "      <th>birthYear</th>\n",
       "      <th>event</th>\n",
       "      <th>attr1</th>\n",
       "      <th>attr2</th>\n",
       "      <th>attr3</th>\n",
       "      <th>attr4</th>\n",
       "      <th>time</th>\n",
       "    </tr>\n",
       "  </thead>\n",
       "  <tbody>\n",
       "    <tr>\n",
       "      <th>0</th>\n",
       "      <td>P-0</td>\n",
       "      <td>1954</td>\n",
       "      <td>diagnose</td>\n",
       "      <td>Disease-B</td>\n",
       "      <td>None</td>\n",
       "      <td>None</td>\n",
       "      <td>0</td>\n",
       "      <td>2012-01-01</td>\n",
       "    </tr>\n",
       "    <tr>\n",
       "      <th>1</th>\n",
       "      <td>P-0</td>\n",
       "      <td>1954</td>\n",
       "      <td>prescribe</td>\n",
       "      <td>None</td>\n",
       "      <td>Medicine-C</td>\n",
       "      <td>None</td>\n",
       "      <td>0</td>\n",
       "      <td>2012-01-01</td>\n",
       "    </tr>\n",
       "    <tr>\n",
       "      <th>2</th>\n",
       "      <td>P-0</td>\n",
       "      <td>1954</td>\n",
       "      <td>labtest</td>\n",
       "      <td>None</td>\n",
       "      <td>None</td>\n",
       "      <td>Labtest-C</td>\n",
       "      <td>44</td>\n",
       "      <td>2012-01-01</td>\n",
       "    </tr>\n",
       "    <tr>\n",
       "      <th>3</th>\n",
       "      <td>P-0</td>\n",
       "      <td>1954</td>\n",
       "      <td>labtest</td>\n",
       "      <td>None</td>\n",
       "      <td>None</td>\n",
       "      <td>Labtest-C</td>\n",
       "      <td>25</td>\n",
       "      <td>2012-01-02</td>\n",
       "    </tr>\n",
       "    <tr>\n",
       "      <th>4</th>\n",
       "      <td>P-0</td>\n",
       "      <td>1954</td>\n",
       "      <td>diagnose</td>\n",
       "      <td>Disease-B</td>\n",
       "      <td>None</td>\n",
       "      <td>None</td>\n",
       "      <td>0</td>\n",
       "      <td>2012-05-17</td>\n",
       "    </tr>\n",
       "  </tbody>\n",
       "</table>\n",
       "</div>"
      ],
      "text/plain": [
       "    id  birthYear      event      attr1       attr2      attr3  attr4  \\\n",
       "0  P-0       1954   diagnose  Disease-B        None       None      0   \n",
       "1  P-0       1954  prescribe       None  Medicine-C       None      0   \n",
       "2  P-0       1954    labtest       None        None  Labtest-C     44   \n",
       "3  P-0       1954    labtest       None        None  Labtest-C     25   \n",
       "4  P-0       1954   diagnose  Disease-B        None       None      0   \n",
       "\n",
       "         time  \n",
       "0  2012-01-01  \n",
       "1  2012-01-01  \n",
       "2  2012-01-01  \n",
       "3  2012-01-02  \n",
       "4  2012-05-17  "
      ]
     },
     "execution_count": 21,
     "metadata": {},
     "output_type": "execute_result"
    }
   ],
   "source": [
    "data.head()"
   ]
  },
  {
   "cell_type": "code",
   "execution_count": 23,
   "metadata": {},
   "outputs": [],
   "source": [
    "sample_data.to_csv(os.path.join(os.getcwd(), 'test.csv'),\\\n",
    "    index = False,\n",
    "    encoding = 'utf-8')"
   ]
  },
  {
   "cell_type": "code",
   "execution_count": null,
   "metadata": {},
   "outputs": [],
   "source": []
  }
 ],
 "metadata": {
  "interpreter": {
   "hash": "ac2eaa0ea0ebeafcc7822e65e46aa9d4f966f30b695406963e145ea4a91cd4fc"
  },
  "kernelspec": {
   "display_name": "",
   "language": "python",
   "name": "python3"
  },
  "language_info": {
   "codemirror_mode": {
    "name": "ipython",
    "version": 3
   },
   "file_extension": ".py",
   "mimetype": "text/x-python",
   "name": "python",
   "nbconvert_exporter": "python",
   "pygments_lexer": "ipython3",
   "version": "3.6.8"
  },
  "orig_nbformat": 4
 },
 "nbformat": 4,
 "nbformat_minor": 2
}
